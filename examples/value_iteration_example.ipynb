{
 "cells": [
  {
   "cell_type": "code",
   "execution_count": 1,
   "metadata": {},
   "outputs": [],
   "source": [
    "%%capture\n",
    "# Install required packages\n",
    "! pip install --no-cache-dir --force-reinstall git+https://github.com/CassandraDurr/value_iteration.git@main"
   ]
  },
  {
   "cell_type": "code",
   "execution_count": null,
   "metadata": {},
   "outputs": [],
   "source": [
    "import pkg_resources\n",
    "\n",
    "package_name = \"value_iteration\"\n",
    "if package_name in [pkg.key for pkg in pkg_resources.working_set]:\n",
    "    print(f\"'{package_name}' is installed.\")\n",
    "else:\n",
    "    print(f\"'{package_name}' is NOT installed.\")"
   ]
  },
  {
   "cell_type": "code",
   "execution_count": null,
   "metadata": {},
   "outputs": [],
   "source": [
    "from value_iteration import value_iteration, load_mdp_from_csv"
   ]
  },
  {
   "cell_type": "code",
   "execution_count": null,
   "metadata": {},
   "outputs": [],
   "source": [
    "from value_iteration.algorithms import value_iteration, load_mdp_from_csv"
   ]
  },
  {
   "cell_type": "code",
   "execution_count": null,
   "metadata": {},
   "outputs": [],
   "source": [
    "# Example with coded values\n",
    "S = [\"A\", \"B\", \"C\", \"D\"]\n",
    "A = {\n",
    "    \"A\": [\"move1\", \"move2\"],\n",
    "    \"B\": [\"move1\", \"move3\"],\n",
    "    \"C\": [\"move2\", \"move3\"],\n",
    "    \"D\": [\"move1\"],\n",
    "}\n",
    "P = {\n",
    "    (\"A\", \"move1\", \"B\"): 0.8,\n",
    "    (\"A\", \"move1\", \"C\"): 0.2,\n",
    "    (\"A\", \"move2\", \"C\"): 1.0,\n",
    "    (\"B\", \"move1\", \"D\"): 1.0,\n",
    "    (\"B\", \"move3\", \"C\"): 0.5,\n",
    "    (\"B\", \"move3\", \"D\"): 0.5,\n",
    "    (\"C\", \"move2\", \"D\"): 1.0,\n",
    "}\n",
    "R = {\n",
    "    (\"A\", \"move1\", \"B\"): 5,\n",
    "    (\"A\", \"move1\", \"C\"): 10,\n",
    "    (\"A\", \"move2\", \"C\"): 10,\n",
    "    (\"B\", \"move1\", \"D\"): -1,\n",
    "    (\"B\", \"move3\", \"C\"): 2,\n",
    "    (\"B\", \"move3\", \"D\"): 0,\n",
    "    (\"C\", \"move2\", \"D\"): 8,\n",
    "}\n",
    "\n",
    "# Run value iteration\n",
    "optimal_values, optimal_policy = value_iteration(\n",
    "    S, A, P, R, gamma=0.9, theta=1e-9, printing=True\n",
    ")\n",
    "\n",
    "# Display results\n",
    "print(\"\\nOptimal State Values:\", optimal_values)\n",
    "print(\"Optimal Policy:\", optimal_policy)"
   ]
  },
  {
   "cell_type": "code",
   "execution_count": null,
   "metadata": {},
   "outputs": [],
   "source": [
    "# Example loading data from a CSV\n",
    "S, A, P, R = load_mdp_from_csv(\n",
    "    transitions_filepath=\"example_data/transitions.csv\",\n",
    "    state_actions_filepath=\"example_data/state_actions.csv\",\n",
    ")\n",
    "\n",
    "# Run Value Iteration\n",
    "optimal_values, optimal_policy = algorithms(\n",
    "    S, A, P, R, gamma=0.9, theta=1e-9, printing=True\n",
    ")\n",
    "\n",
    "# Display results\n",
    "print(\"\\nOptimal State Values:\", optimal_values)\n",
    "print(\"Optimal Policy:\", optimal_policy)"
   ]
  }
 ],
 "metadata": {
  "kernelspec": {
   "display_name": "value_itr",
   "language": "python",
   "name": "python3"
  },
  "language_info": {
   "codemirror_mode": {
    "name": "ipython",
    "version": 3
   },
   "file_extension": ".py",
   "mimetype": "text/x-python",
   "name": "python",
   "nbconvert_exporter": "python",
   "pygments_lexer": "ipython3",
   "version": "3.13.2"
  }
 },
 "nbformat": 4,
 "nbformat_minor": 2
}
